{
 "cells": [
  {
   "cell_type": "code",
   "execution_count": 1,
   "metadata": {},
   "outputs": [
    {
     "data": {
      "text/plain": [
       "'\\n姓名：刘佳昌\\n班级：5班\\n学号：2016011565\\n内容：高光谱分类\\n\\n'"
      ]
     },
     "execution_count": 1,
     "metadata": {},
     "output_type": "execute_result"
    }
   ],
   "source": [
    "'''\n",
    "姓名：刘佳昌\n",
    "班级：5班\n",
    "学号：2016011565\n",
    "内容：高光谱分类\n",
    "\n",
    "'''"
   ]
  },
  {
   "cell_type": "code",
   "execution_count": 4,
   "metadata": {},
   "outputs": [
    {
     "name": "stdout",
     "output_type": "stream",
     "text": [
      "['data10_train.mat', 'data11_train.mat', 'data12_train.mat', 'data14_train.mat', 'data2_train.mat', 'data3_train.mat', 'data5_train.mat', 'data6_train.mat', 'data8_train.mat']\n",
      "{'__header__': b'MATLAB 5.0 MAT-file, Platform: PCWIN64, Created on: Mon Dec 03 13:10:46 2018', '__version__': '1.0', '__globals__': [], 'data10_train': array([[3693, 4256, 4503, ..., 1050, 1024, 1024],\n",
      "       [2589, 4372, 4334, ..., 1050, 1024, 1019],\n",
      "       [3693, 4128, 4507, ..., 1045, 1029, 1019],\n",
      "       ...,\n",
      "       [2564, 4238, 4290, ..., 1042, 1023, 1018],\n",
      "       [2735, 4114, 4295, ..., 1041, 1024, 1018],\n",
      "       [2732, 4122, 4388, ..., 1054, 1024, 1014]], dtype=uint16)}\n",
      "10\n",
      "10 729\n",
      "{'__header__': b'MATLAB 5.0 MAT-file, Platform: PCWIN64, Created on: Mon Dec 03 13:10:46 2018', '__version__': '1.0', '__globals__': [], 'data11_train': array([[3711, 4242, 4408, ..., 1064, 1019, 1023],\n",
      "       [3711, 4245, 4417, ..., 1042, 1023, 1019],\n",
      "       [3711, 4362, 4594, ..., 1044, 1024, 1009],\n",
      "       ...,\n",
      "       [2728, 4350, 4473, ..., 1040, 1018, 1005],\n",
      "       [3154, 4106, 4299, ..., 1040, 1018, 1023],\n",
      "       [3154, 4226, 4384, ..., 1045, 1023, 1001]], dtype=uint16)}\n",
      "11\n",
      "11 1841\n",
      "{'__header__': b'MATLAB 5.0 MAT-file, Platform: PCWIN64, Created on: Mon Dec 03 13:10:46 2018', '__version__': '1.0', '__globals__': [], 'data12_train': array([[2564, 4131, 4333, ..., 1041, 1016, 1010],\n",
      "       [2737, 4019, 4418, ..., 1041, 1020, 1019],\n",
      "       [3663, 4383, 4321, ..., 1045, 1025, 1015],\n",
      "       ...,\n",
      "       [3703, 4493, 4599, ..., 1064, 1043, 1009],\n",
      "       [3198, 4362, 4683, ..., 1073, 1030, 1018],\n",
      "       [3708, 4242, 4594, ..., 1061, 1020, 1023]], dtype=uint16)}\n",
      "12\n",
      "12 445\n",
      "{'__header__': b'MATLAB 5.0 MAT-file, Platform: PCWIN64, Created on: Mon Dec 03 13:10:46 2018', '__version__': '1.0', '__globals__': [], 'data14_train': array([[2574, 3874, 4134, ..., 1014, 1010, 1003],\n",
      "       [3174, 3881, 4045, ..., 1021, 1010, 1009],\n",
      "       [2577, 4121, 4054, ..., 1012, 1006, 1004],\n",
      "       ...,\n",
      "       [2725, 3982, 4099, ..., 1007, 1004, 1008],\n",
      "       [3320, 3862, 4015, ..., 1007, 1004, 1000],\n",
      "       [3154, 3986, 4099, ..., 1011,  996, 1003]], dtype=uint16)}\n",
      "14\n",
      "14 949\n",
      "{'__header__': b'MATLAB 5.0 MAT-file, Platform: PCWIN64, Created on: Mon Dec 03 13:10:46 2018', '__version__': '1.0', '__globals__': [], 'data2_train': array([[3688, 4381, 4594, ..., 1064, 1034, 1010],\n",
      "       [2579, 4137, 4412, ..., 1051, 1043, 1005],\n",
      "       [2581, 4264, 4328, ..., 1054, 1022, 1009],\n",
      "       ...,\n",
      "       [3186, 4114, 4213, ..., 1045, 1015, 1009],\n",
      "       [2586, 4114, 4226, ..., 1023, 1018, 1014],\n",
      "       [3189, 4118, 4492, ..., 1034, 1014, 1009]], dtype=uint16)}\n",
      "2\n",
      "2 1071\n",
      "{'__header__': b'MATLAB 5.0 MAT-file, Platform: PCWIN64, Created on: Mon Dec 03 13:10:46 2018', '__version__': '1.0', '__globals__': [], 'data3_train': array([[3164, 4384, 4427, ..., 1054, 1025, 1024],\n",
      "       [3674, 4257, 4600, ..., 1055, 1029, 1011],\n",
      "       [2732, 4137, 4507, ..., 1055, 1030, 1015],\n",
      "       ...,\n",
      "       [3322, 3990, 4560, ..., 1046, 1015, 1013],\n",
      "       [2727, 4110, 4378, ..., 1041, 1019, 1018],\n",
      "       [3666, 3994, 4294, ..., 1049, 1010, 1014]], dtype=uint16)}\n",
      "3\n",
      "3 622\n",
      "{'__header__': b'MATLAB 5.0 MAT-file, Platform: PCWIN64, Created on: Mon Dec 03 13:10:46 2018', '__version__': '1.0', '__globals__': [], 'data5_train': array([[3183, 3740, 3851, ..., 1006, 1008, 1000],\n",
      "       [2585, 3743, 4105, ..., 1015, 1009, 1003],\n",
      "       [2583, 3860, 3847, ..., 1007, 1009, 1000],\n",
      "       ...,\n",
      "       [2986, 3726, 4013, ..., 1022, 1014, 1004],\n",
      "       [3322, 3850, 3924, ..., 1017, 1009, 1004],\n",
      "       [2981, 3850, 3936, ..., 1012, 1005, 1004]], dtype=uint16)}\n",
      "5\n",
      "5 362\n",
      "{'__header__': b'MATLAB 5.0 MAT-file, Platform: PCWIN64, Created on: Mon Dec 03 13:10:46 2018', '__version__': '1.0', '__globals__': [], 'data6_train': array([[3024, 3861, 3942, ..., 1002, 1009, 1013],\n",
      "       [3032, 3869, 4022, ..., 1015, 1009, 1000],\n",
      "       [2771, 4105, 3857, ..., 1025, 1009, 1000],\n",
      "       ...,\n",
      "       [3669, 3979, 4020, ..., 1025, 1014, 1004],\n",
      "       [2565, 4095, 4113, ..., 1013,  992, 1000],\n",
      "       [3669, 3851, 4193, ..., 1012, 1003,  995]], dtype=uint16)}\n",
      "6\n",
      "6 547\n",
      "{'__header__': b'MATLAB 5.0 MAT-file, Platform: PCWIN64, Created on: Mon Dec 03 13:10:46 2018', '__version__': '1.0', '__globals__': [], 'data8_train': array([[2754, 4368, 4419, ..., 1026, 1010, 1004],\n",
      "       [2754, 3996, 4419, ..., 1030, 1023, 1013],\n",
      "       [2754, 4008, 4411, ..., 1022, 1024, 1005],\n",
      "       ...,\n",
      "       [3192, 4235, 4313, ..., 1026, 1023, 1000],\n",
      "       [3192, 4111, 4313, ..., 1030, 1014, 1008],\n",
      "       [3192, 4115, 4313, ..., 1031, 1014, 1013]], dtype=uint16)}\n",
      "8\n",
      "8 358\n"
     ]
    }
   ],
   "source": [
    "# 读取文件\n",
    "import scipy.io as scio\n",
    "import os\n",
    "# path是文件路径 files 是文件名组成的列表\n",
    "path = './9个类别的数据集-train/'\n",
    "files = os.listdir(path)\n",
    "s=[]\n",
    "print(files)\n",
    "data_min=[]\n",
    "data_max=[]\n",
    "labels=[]\n",
    "# 读取数据，并进行预处理，a=(a-min)/(max-min)\n",
    "for file in files:\n",
    "    data = scio.loadmat(path+file)\n",
    "    print(data)\n",
    "    A = file[:-4]\n",
    "    label = int(file[4:-10])\n",
    "    print(label)\n",
    "    amin, amax = data[A].min(axis=0),data[A].max(axis=0)\n",
    "    a = (data[A]-amin)/(amax-amin)\n",
    "    data_min.append(amin)\n",
    "    data_max.append(amax)\n",
    "    print(label,len(a))\n",
    "    for i in range(len(a)):\n",
    "        labels.append(label)\n",
    "    s.extend(a)"
   ]
  },
  {
   "cell_type": "code",
   "execution_count": 6,
   "metadata": {},
   "outputs": [
    {
     "name": "stdout",
     "output_type": "stream",
     "text": [
      "(6924, 200)\n",
      "(6924,)\n",
      "(2310, 200)\n"
     ]
    }
   ],
   "source": [
    "# 读取测试集\n",
    "import numpy as np\n",
    "train = np.array(s)\n",
    "labels = np.array(labels)\n",
    "test_dict = scio.loadmat('data_test_final.mat')\n",
    "data = test_dict['data_test_final']\n",
    "test = []\n",
    "# 测试集预处理\n",
    "test = (data-np.array(data_min).mean(axis=0))/(np.array(data_max).mean(axis=0)-np.array(data_min).mean(axis=0))\n",
    "print(train.shape)\n",
    "print(labels.shape)\n",
    "test = np.array(test)\n",
    "print(test.shape)"
   ]
  },
  {
   "cell_type": "code",
   "execution_count": 7,
   "metadata": {},
   "outputs": [
    {
     "name": "stdout",
     "output_type": "stream",
     "text": [
      "4639 2285\n",
      "acc =  0.9921225382932166\n"
     ]
    }
   ],
   "source": [
    "# 分割训练集，验证正确率\n",
    "from sklearn.model_selection import train_test_split\n",
    "from sklearn.neighbors import KNeighborsClassifier\n",
    "\n",
    "x_train,x_test,y_train,y_test = train_test_split(train,labels,test_size=0.33,random_state=0)\n",
    "print(len(x_train),len(x_test))\n",
    "\n",
    "# 采用k近邻算法 k=1 用曼哈顿距离\n",
    "knn = KNeighborsClassifier(n_neighbors=1,algorithm='ball_tree',p=1)\n",
    "knn.fit(x_train,y_train)\n",
    "print(\"acc = \",knn.score(x_test,y_test))"
   ]
  },
  {
   "cell_type": "code",
   "execution_count": null,
   "metadata": {},
   "outputs": [],
   "source": [
    "# 对测试集进行预测,并导出csv文件\n",
    "import pandas as pd\n",
    "testy = knn.predict(test)\n",
    "testy = testy.tolist()\n",
    "print(testy)\n",
    "x = [i for i in range(len(testy))]\n",
    "result = {'x': x, 'y': testy}\n",
    "df = pd.DataFrame(result)\n",
    "df.to_csv('testy.csv',inde)"
   ]
  }
 ],
 "metadata": {
  "kernelspec": {
   "display_name": "Python 3",
   "language": "python",
   "name": "python3"
  },
  "language_info": {
   "codemirror_mode": {
    "name": "ipython",
    "version": 3
   },
   "file_extension": ".py",
   "mimetype": "text/x-python",
   "name": "python",
   "nbconvert_exporter": "python",
   "pygments_lexer": "ipython3",
   "version": "3.6.5"
  }
 },
 "nbformat": 4,
 "nbformat_minor": 2
}
