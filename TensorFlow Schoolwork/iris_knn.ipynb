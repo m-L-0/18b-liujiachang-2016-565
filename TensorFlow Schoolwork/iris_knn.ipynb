{
 "cells": [
  {
   "cell_type": "code",
   "execution_count": 130,
   "metadata": {},
   "outputs": [
    {
     "data": {
      "text/plain": [
       "'\\n姓名：刘佳昌\\n班级：5班\\n学号：2016011565\\n作业内容：TensorFlow Schoolwork\\n'"
      ]
     },
     "execution_count": 130,
     "metadata": {},
     "output_type": "execute_result"
    }
   ],
   "source": [
    "'''\n",
    "姓名：刘佳昌\n",
    "班级：5班\n",
    "学号：2016011565\n",
    "作业内容：TensorFlow Schoolwork\n",
    "'''"
   ]
  },
  {
   "cell_type": "code",
   "execution_count": 2,
   "metadata": {},
   "outputs": [
    {
     "name": "stderr",
     "output_type": "stream",
     "text": [
      "D:\\anaconda\\lib\\site-packages\\sklearn\\cross_validation.py:41: DeprecationWarning: This module was deprecated in version 0.18 in favor of the model_selection module into which all the refactored classes and functions are moved. Also note that the interface of the new CV iterators are different from that of this module. This module will be removed in 0.20.\n",
      "  \"This module will be removed in 0.20.\", DeprecationWarning)\n",
      "D:\\anaconda\\lib\\site-packages\\h5py\\__init__.py:36: FutureWarning: Conversion of the second argument of issubdtype from `float` to `np.floating` is deprecated. In future, it will be treated as `np.float64 == np.dtype(float).type`.\n",
      "  from ._conv import register_converters as _register_converters\n"
     ]
    }
   ],
   "source": [
    "# 1.将鸢尾花数据集安装8 : 2的比例划分成训练集与验证集（数据集部分可使用Dataset API，也可以不使用）\n",
    "from sklearn.datasets import load_iris\n",
    "# 从sklearn.cross_validation里选择导入train_test_split用于数据分割。\n",
    "from sklearn.cross_validation import train_test_split\n",
    "import tensorflow as tf\n",
    "# 使用加载器读取数据并且存入变量iris。\n",
    "iris = load_iris()\n",
    "# 训练集占0.8 测试集占0.2 随机数种子选择5\n",
    "x_train, x_test, y_train, y_test = train_test_split(iris.data, iris.target, test_size=0.2, \n",
    "                                                  random_state=5)"
   ]
  },
  {
   "cell_type": "code",
   "execution_count": 3,
   "metadata": {},
   "outputs": [],
   "source": [
    "# 2.设计模型：\n",
    "\n",
    "# 定义占位符\n",
    "tf_train=tf.placeholder(tf.float32,[None,4])\n",
    "tf_test=tf.placeholder(tf.float32,[4])\n",
    "#变量初始化\n",
    "init = tf.global_variables_initializer()\n",
    "#欧式距离\n",
    "length=tf.sqrt(tf.reduce_sum(tf.square(tf.subtract(tf_train,tf_test)),1))"
   ]
  },
  {
   "cell_type": "code",
   "execution_count": 5,
   "metadata": {},
   "outputs": [
    {
     "name": "stdout",
     "output_type": "stream",
     "text": [
      "k =  7 时，正确率： 0.9666666666666667\n"
     ]
    }
   ],
   "source": [
    "# 3.训练模型\n",
    "# 4.验证模型\n",
    "\n",
    "#运行图\n",
    "with tf.Session() as sess:\n",
    "    #初始化\n",
    "    sess.run(init)\n",
    "    #遍历测试集\n",
    "    #for k in range(1,10):\n",
    "    acc=0.\n",
    "    for i in range(len(x_test)):\n",
    "        #算得测试集节点与每个训练集节点的欧式距离\n",
    "        lengths = sess.run(length,feed_dict={tf_train:x_train,tf_test:x_test[i]})\n",
    "        #print(lengths)\n",
    "        # 将距离list与下标压缩到一个元组里并按照距离排序\n",
    "        lengths = zip(lengths,range(len(x_train)))   \n",
    "        lengths = sorted(lengths,key=lambda lengths:lengths[0])\n",
    "        #print(length)\n",
    "        # 取前k个近邻\n",
    "        lengths = lengths[:7]\n",
    "        #print(k)\n",
    "        # 统计k个近邻中每个簇的个数，以最多的作为分类结果\n",
    "        zero,one,two=0,0,0\n",
    "        for l in range(7):\n",
    "            if(y_train[lengths[l][1]]==0):\n",
    "                zero+=1\n",
    "            if(y_train[lengths[l][1]]==1):\n",
    "                one+=1\n",
    "            if(y_train[lengths[l][1]]==2):\n",
    "                two+=1\n",
    "        #pred=0\n",
    "        if(zero>one and zero>two):\n",
    "            pred=0\n",
    "        if(zero<one and one>two):\n",
    "            pred=1\n",
    "        if(two>one and zero<two):\n",
    "            pred=2\n",
    "        #print(pred)\n",
    "        # 查看预测结果与测试集真实结果\n",
    "        #print(\"test\",i+1,\"预测类别：\",pred,\"真实类别：\",y_test[i])\n",
    "        # 统计正确个数，计算正确率\n",
    "        if(pred==y_test[i]):\n",
    "            acc+=1\n",
    "    #循环选择k，当k=7时 acc=96%\n",
    "    print(\"k = \",7,\"时，正确率：\",acc/30)"
   ]
  },
  {
   "cell_type": "code",
   "execution_count": null,
   "metadata": {},
   "outputs": [],
   "source": []
  }
 ],
 "metadata": {
  "kernelspec": {
   "display_name": "Python 3",
   "language": "python",
   "name": "python3"
  },
  "language_info": {
   "codemirror_mode": {
    "name": "ipython",
    "version": 3
   },
   "file_extension": ".py",
   "mimetype": "text/x-python",
   "name": "python",
   "nbconvert_exporter": "python",
   "pygments_lexer": "ipython3",
   "version": "3.6.5"
  }
 },
 "nbformat": 4,
 "nbformat_minor": 2
}
