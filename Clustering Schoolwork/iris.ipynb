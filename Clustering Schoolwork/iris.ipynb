{
 "cells": [
  {
   "cell_type": "code",
   "execution_count": 2,
   "metadata": {},
   "outputs": [
    {
     "data": {
      "text/plain": [
       "'\\n姓名:刘佳昌\\n班级：5班\\n学号：2016011565\\n内容：Clustering Schoolwork\\n'"
      ]
     },
     "execution_count": 2,
     "metadata": {},
     "output_type": "execute_result"
    }
   ],
   "source": [
    "'''\n",
    "姓名:刘佳昌\n",
    "班级：5班\n",
    "学号：2016011565\n",
    "内容：Clustering Schoolwork\n",
    "'''   "
   ]
  },
  {
   "cell_type": "code",
   "execution_count": 8,
   "metadata": {},
   "outputs": [
    {
     "data": {
      "image/png": "[encoded data removed]",
      "text/plain": [
       "<Figure size 432x288 with 1 Axes>"
      ]
     },
     "metadata": {},
     "output_type": "display_data"
    }
   ],
   "source": [
    "###1.将鸢尾花数据集画成图的形式\n",
    "## 将数据变为2维，输出到图上\n",
    "import matplotlib.pyplot as plt\n",
    "#加载matplotlib用于数据的可视化\n",
    "from sklearn.decomposition import PCA\n",
    "#加载PCA算法包\n",
    "from sklearn.datasets import load_iris\n",
    "%matplotlib inline\n",
    "#加载鸢尾花数据集导入函数\n",
    "data = load_iris()\n",
    "#以字典形式加载鸢尾花数据集\n",
    "y = data.target #使用y表示数据集中的标签\n",
    "X = data.data #使用X表示数据集中的属性数据\n",
    "def pca_data():    \n",
    "    pca = PCA(n_components=2)\n",
    "    #加载PCA算法，设置降维后主成分数目为2\n",
    "    reduced_X = pca.fit_transform(X)\n",
    "    #对原始数据进行降维，保存在reduced_X中\n",
    "    #print(reduced_X.shape)\n",
    "    return reduced_X\n",
    "def image(reduced_X):\n",
    "    red_x, red_y = [], []\n",
    "    #第一类数据点\n",
    "    blue_x, blue_y = [], []\n",
    "    #第二类数据点\n",
    "    green_x, green_y = [], []\n",
    "    #第三类数据点\n",
    "    for i in range(len(reduced_X)):\n",
    "        if y[i] == 0:\n",
    "            red_x.append(reduced_X[i][0])\n",
    "            red_y.append(reduced_X[i][1])\n",
    "        elif y[i] == 1:\n",
    "            blue_x.append(reduced_X[i][0])\n",
    "            blue_y.append(reduced_X[i][1])\n",
    "        else:\n",
    "            green_x.append(reduced_X[i][0])\n",
    "            green_y.append(reduced_X[i][1])\n",
    "            plt.title(\"iris red:\"+data.target_names[0]+\"  blue:\"+data.target_names[1]+\"  green:\"+data.target_names[2])\n",
    "            plt.scatter(red_x, red_y, c='r', marker='s')\n",
    "            #第一类数据点\n",
    "            plt.scatter(blue_x, blue_y, c='b', marker='p')\n",
    "            #第二类数据点\n",
    "            plt.scatter(green_x, green_y, c='g', marker='x')\n",
    "            #第三类数据点\n",
    "    plt.savefig(\"iris.jpg\")\n",
    "            #保存\n",
    "    plt.show()\n",
    "            #可视化\n",
    "if __name__ =='__main__':\n",
    "    train = pca_data()            \n",
    "    image(train)"
   ]
  },
  {
   "cell_type": "code",
   "execution_count": 9,
   "metadata": {},
   "outputs": [
    {
     "name": "stdout",
     "output_type": "stream",
     "text": [
      "[[0.         0.53851648 0.50990195 ... 4.45982062 4.65080638 4.14004831]\n",
      " [0.53851648 0.         0.3        ... 4.49888875 4.71805044 4.15331193]\n",
      " [0.50990195 0.3        0.         ... 4.66154481 4.84871117 4.29883705]\n",
      " ...\n",
      " [4.45982062 4.49888875 4.66154481 ... 0.         0.6164414  0.64031242]\n",
      " [4.65080638 4.71805044 4.84871117 ... 0.6164414  0.         0.76811457]\n",
      " [4.14004831 4.15331193 4.29883705 ... 0.64031242 0.76811457 0.        ]]\n",
      "[[1.00000000e+00 0.00000000e+00 0.00000000e+00 ... 0.00000000e+00\n",
      "  0.00000000e+00 0.00000000e+00]\n",
      " [0.00000000e+00 1.00000000e+00 1.37115934e-02 ... 0.00000000e+00\n",
      "  0.00000000e+00 0.00000000e+00]\n",
      " [0.00000000e+00 1.37115934e-02 1.00000000e+00 ... 0.00000000e+00\n",
      "  0.00000000e+00 0.00000000e+00]\n",
      " ...\n",
      " [0.00000000e+00 0.00000000e+00 0.00000000e+00 ... 1.00000000e+00\n",
      "  1.48620794e-04 0.00000000e+00]\n",
      " [0.00000000e+00 0.00000000e+00 0.00000000e+00 ... 1.48620794e-04\n",
      "  1.00000000e+00 0.00000000e+00]\n",
      " [0.00000000e+00 0.00000000e+00 0.00000000e+00 ... 0.00000000e+00\n",
      "  0.00000000e+00 1.00000000e+00]]\n"
     ]
    }
   ],
   "source": [
    "##2.确定一个合适的阈值，只有两个样本之间的相似度大于该阈值时，这两个样本之间才有一条边。\n",
    "##3.求取带权邻接矩阵。\n",
    "from sklearn.datasets import load_iris\n",
    "#加载鸢尾花数据集导入函数\n",
    "import numpy as np\n",
    "data = load_iris()\n",
    "#以字典形式加载鸢尾花数据集\n",
    "y = data.target #使用y表示数据集中的标签\n",
    "X = data.data #使用X表示数据集中的属性数据\n",
    "#距离矩阵\n",
    "def M(x1, x2):\n",
    "    res = np.sum((x1-x2)**2)\n",
    "    res = np.sqrt(res)\n",
    "    #print(res)\n",
    "    return res\n",
    "\n",
    "def D(X):\n",
    "    X = np.array(X)\n",
    "    S = np.zeros((len(X), len(X)))\n",
    "    for i in range(150):\n",
    "        for j in range(i+1,150):\n",
    "            S[i][j] = M(X[i], X[j])\n",
    "            S[j][i] = S[i][j]\n",
    "    #print(S)\n",
    "    return S\n",
    "\n",
    "#邻接矩阵\n",
    "def myKNN(S, k, sigma=0.187):\n",
    "    N = len(S)\n",
    "    A = np.zeros((N,N))\n",
    "    for i in range(N):\n",
    "        dist_with_index = zip(S[i], range(N))\n",
    "              \n",
    "        dist_with_index = sorted(dist_with_index, key=lambda x:x[0])#排序\n",
    "        #print(dist_with_index)\n",
    "        neighbours_id = [dist_with_index[m][1] for m in range(k+1)] # xi's k nearest neighbours\n",
    "        #print(neighbours_id)\n",
    "        for j in neighbours_id: # xj is xi's neighbour\n",
    "            A[i][j] = np.exp(-S[i][j]/2/sigma/sigma)\n",
    "            #print(A[i][j])\n",
    "            A[j][i] = A[i][j] # mutually\n",
    "    #print(A)\n",
    "    return A\n",
    "if __name__ =='__main__': \n",
    "    length=D(X)\n",
    "    ## 距离矩阵\n",
    "    print(length)\n",
    "    L=myKNN(length,10)\n",
    "    ## 根据k近邻算法求得邻接矩阵 k=10\n",
    "    print(L)"
   ]
  },
  {
   "cell_type": "code",
   "execution_count": 13,
   "metadata": {},
   "outputs": [
    {
     "name": "stdout",
     "output_type": "stream",
     "text": [
      "[0 0 0 0 0 0 0 0 0 0 0 0 0 0 0 0 0 0 0 0 0 0 0 0 0 0 0 0 0 0 0 0 0 0 0 0 0\n",
      " 0 0 0 0 0 0 0 0 0 0 0 0 0 1 1 1 1 1 1 1 2 1 1 2 1 1 1 1 1 1 1 1 1 1 1 1 1\n",
      " 1 1 1 1 1 1 1 1 1 1 1 1 1 1 1 1 1 1 1 2 1 1 1 1 2 1 2 1 2 2 2 2 1 2 2 1 2\n",
      " 2 2 1 1 2 2 2 2 1 2 1 2 1 2 2 1 1 2 2 2 2 2 1 2 2 2 2 1 2 2 2 1 2 2 2 1 2\n",
      " 2 1]\n"
     ]
    }
   ],
   "source": [
    "##4.根据邻接矩阵进行聚类。\n",
    "from sklearn.cluster import KMeans\n",
    "## 导入k均值模型\n",
    "## 拉普拉斯矩阵\n",
    "def Lpls(x):\n",
    "    # 度矩阵: D=sum(A)\n",
    "    d = np.sum(x, axis=1)\n",
    "    #print(d)\n",
    "    # 拉普拉斯矩阵: L=D-A\n",
    "    lpls = np.diag(d) - x\n",
    "    #print(lpls)\n",
    "    ## 标准化拉普拉斯矩阵 \n",
    "    sqrtDegreeMatrix = np.diag(1.0 / (d ** (0.5)))\n",
    "    return np.dot(np.dot(sqrtDegreeMatrix, lpls), sqrtDegreeMatrix)\n",
    "#K_means\n",
    "def spKmeans(H):\n",
    "    sp_kmeans = KMeans(n_clusters=3,n_init=13,random_state =17).fit(H)\n",
    "    #print(sp_kmeans.labels_)\n",
    "    return sp_kmeans\n",
    "if __name__ =='__main__':\n",
    "    lpls=Lpls(L)\n",
    "    #print(lpls)\n",
    "    # 求矩阵特征值和特征向量\n",
    "    lam, H = np.linalg.eig(lpls)\n",
    "    lam = np.array(lam,dtype = np.float32)\n",
    "    H=np.array(H,dtype = np.float32)\n",
    "    #排序 选取前9组向量并转置\n",
    "    lam=zip(lam,range(len(lam)))\n",
    "    lam=sorted(lam,key=lambda lam:lam[0])\n",
    "    H=np.vstack([H[:,i]for v,i in lam[:9]]).T\n",
    "    #print(H.shape)\n",
    "    # 矩阵标准化 根据最大值和最小值，减小误差\n",
    "    for l in range(len(H)):\n",
    "        Hmax,Hmin=H[l].max(),H[l].min()\n",
    "        for j in range(len(H[l])):\n",
    "            H[l][j]=(H[l][j]-Hmin)/(Hmax-Hmin)\n",
    "    result=spKmeans(H)\n",
    "    print(result.labels_)"
   ]
  },
  {
   "cell_type": "code",
   "execution_count": 14,
   "metadata": {},
   "outputs": [
    {
     "data": {
      "image/png": "[encoded data removed]",
      "text/plain": [
       "<Figure size 432x288 with 1 Axes>"
      ]
     },
     "metadata": {},
     "output_type": "display_data"
    }
   ],
   "source": [
    "##5.将聚类结果可视化，重新转换成图的形式，其中每一个簇应该用一种形状表示，比如分别用圆圈、三角和矩阵表示各个簇。\n",
    "labels = result.labels_#样本点被分配到的簇的索引\n",
    "#画出聚类结果，每一类用一种颜色\n",
    "colors = ['b','g','r']\n",
    "n_clusters = 3\n",
    "for i in range(n_clusters):\n",
    "    index = np.nonzero(labels==i)[0]\n",
    "    x0 = X[index,0]\n",
    "    x1 = X[index,1]\n",
    "    y_i = y[index]\n",
    "    for j in range(len(x0)):\n",
    "        plt.text(x0[j],x1[j],str(int(y_i[j])),color=colors[i],fontdict={'weight': 'bold', 'size': 9})\n",
    "plt.title(\"blue:\"+str(data.target_names[0])+\"  green:\"+str(data.target_names[1])+\"  red:\"+str(data.target_names[2]))\n",
    "plt.axis([4,8.5,1.5,5])\n",
    "plt.savefig(\"result.jpg\")\n",
    "plt.show()\n"
   ]
  },
  {
   "cell_type": "code",
   "execution_count": 15,
   "metadata": {},
   "outputs": [
    {
     "name": "stdout",
     "output_type": "stream",
     "text": [
      "87.33333333333333 %\n"
     ]
    }
   ],
   "source": [
    "## 6.正确率\n",
    "def acc(labels):\n",
    "    acc=0\n",
    "    # 矩阵排列为 0 .... 1 .... 2\n",
    "    for i in range(50):\n",
    "        if labels[i]==0:\n",
    "            acc+=1\n",
    "    for i in range(50,100):\n",
    "        if labels[i]==1:\n",
    "            acc+=1\n",
    "    for i in range(100,150):\n",
    "        if labels[i]==2:\n",
    "            acc+=1\n",
    "    print(acc/150*100,\"%\")\n",
    "if __name__ == '__main__':\n",
    "    acc(labels)"
   ]
  },
  {
   "cell_type": "code",
   "execution_count": null,
   "metadata": {},
   "outputs": [],
   "source": []
  }
 ],
 "metadata": {
  "kernelspec": {
   "display_name": "Python 3",
   "language": "python",
   "name": "python3"
  },
  "language_info": {
   "codemirror_mode": {
    "name": "ipython",
    "version": 3
   },
   "file_extension": ".py",
   "mimetype": "text/x-python",
   "name": "python",
   "nbconvert_exporter": "python",
   "pygments_lexer": "ipython3",
   "version": "3.6.5"
  }
 },
 "nbformat": 4,
 "nbformat_minor": 2
}
